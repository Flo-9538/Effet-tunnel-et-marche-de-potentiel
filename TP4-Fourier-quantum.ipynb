{
 "cells": [
  {
   "cell_type": "markdown",
   "id": "0d22e53d",
   "metadata": {},
   "source": [
    "# **TP 4 : Transformées de Fourier - Application à l'évolution d'un système quantique**\n"
   ]
  },
  {
   "cell_type": "markdown",
   "id": "7c87726c",
   "metadata": {},
   "source": [
    "## Consignes pour les comptes-rendus (Date d'échéance au plus tard:  <span style=\"color:red;font-weight:bold;font-size:100%\">Vendredi 12 décembre 2024</span> )\n",
    "<div style=\"color: black; background-color: yellow; font-size: 16px; padding: 5px;\">\n",
    "\n",
    "\n",
    "Pour les comptes-rendus, deux possibilités au choix: \n",
    "- Comptes-rendus sous format d'un notebook (Jupyter)\n",
    "- Comptes-rendus sous format pdf (LaTeX)\n",
    "\n",
    "**Compte-rendu sous format d'un notebook:**\n",
    "pour des comptes-rendus sous format d'un notebook, vous pouvez réaliser directement tout le compte-rendu sur ce notebook. Il devra inclure d'une part des blocs de programmes (en python: \"`Code`\") qui réalisent les différents exercices proposés, et des blocs de texte (en langage \"`Markdown`\") dans lequel vous analyserez et discuterez les résultats.\n",
    "\n",
    "\n",
    "**Compte-rendu sous format pdf (LaTeX):**\n",
    "vous pouvez également rendre les comptes-rendus sous forme d'un fichier .pdf réalisé en LaTex, à partir de résultats obtenus par les simulations en python. Il devra par exemple inclure des figures obenues par les différents programmes qui réalisent les différents exercices proposés. Dans le compte-rendu, il faudra également analyser et discuter ces résultats. Pensez à joindre les codes des programmes avec le compte-rendu.\n",
    "\n",
    "**Instructions pour les codes:** \n",
    "pour les codes, pensez dans la mesure du possible, à mettre des commentaires (précédés du caractère #) expliquant par exemple ce que fait le code à un endroit donné, ou ce que représentent des variables. Plus un code est propre et bien commenté, plus il est facile à lire.\n",
    "</div>"
   ]
  },
  {
   "cell_type": "markdown",
   "id": "ba648067",
   "metadata": {},
   "source": [
    "# **A - Fonctionalités utiles pour ce TP**\n",
    "\n",
    "## Animer des données\n",
    "Il sera nécéssaire d'animer certains résultats. Pour cel`a vous pourrez utiliser des fonctions telles que celle définie ci-dessous."
   ]
  },
  {
   "cell_type": "code",
   "execution_count": 1,
   "id": "47cad761",
   "metadata": {},
   "outputs": [],
   "source": [
    "import numpy as np\n",
    "import matplotlib.pyplot as plt\n",
    "import matplotlib.animation as animation\n",
    "from IPython.display import HTML\n",
    "\n",
    "def animer_donnees(donnees, x_donnees, fonction_y, labels, params_tracés=None):\n",
    "    \"\"\"\n",
    "    Anime des données évoluant dans le temps (par exemple, une fonction d'onde ou toute autre donnée)\n",
    "    \n",
    "    Paramètres :\n",
    "    - donnees : Liste ou tableau d'ensembles de données 1D évoluant dans le temps.\n",
    "    - x_donnees : Les valeurs x pour les graphiques (par exemple, une grille spatiale ou de moment).\n",
    "    - fonction_y : Une fonction qui prend un indice temporel et retourne les valeurs y (données à tracer).\n",
    "    - labels : Liste des étiquettes pour le graphique, par exemple ['Donnée', 'Potentiel'].\n",
    "    - params_tracés : Dictionnaire contenant des paramètres optionnels comme les limites des axes, couleurs, etc.\n",
    "    \n",
    "    Retourne :\n",
    "    - anim : Objet d'animation Matplotlib.\n",
    "    \"\"\"\n",
    "    \n",
    "    # Définir les paramètres par défaut\n",
    "    if params_tracés is None:\n",
    "        params_tracés = {'xlim': [x_donnees[0], x_donnees[-1]], 'ylim': [-0.1, 1.2], 'intervalle': 50}\n",
    "    \n",
    "    # Créer la figure et les axes\n",
    "    fig, ax = plt.subplots()\n",
    "    \n",
    "    # Initialiser le graphique avec la première image des données\n",
    "    ligne, = ax.plot(x_donnees, fonction_y(0), label=labels[0], color='b')\n",
    "    \n",
    "    # Définir les limites des axes, les étiquettes, etc.\n",
    "    ax.set_xlim(params_tracés['xlim'])\n",
    "    ax.set_ylim(params_tracés['ylim'])\n",
    "    ax.set_xlabel(labels[0])\n",
    "    ax.set_ylabel(labels[1] if len(labels) > 1 else '')\n",
    "    ax.legend()\n",
    "\n",
    "    # Fonction de mise à jour pour l'animation\n",
    "    def mettre_a_jour(frame):\n",
    "        donnees_y = fonction_y(frame)\n",
    "        ligne.set_ydata(donnees_y)\n",
    "        return ligne,\n",
    "\n",
    "    # Créer l'animation\n",
    "    anim = animation.FuncAnimation(fig, mettre_a_jour, frames=np.arange(len(donnees)), interval=params_tracés['intervalle'])\n",
    "    \n",
    "    return anim"
   ]
  },
  {
   "cell_type": "code",
   "execution_count": 2,
   "id": "beb738eb",
   "metadata": {},
   "outputs": [],
   "source": [
    "### Exemple d'usage \n",
    "\n",
    "#  Exemple de données évolutives (fonction d'onde à différents instants)\n",
    "xx = np.linspace(-10,10,200)\n",
    "psi_of_t = [np.sin(xx - 0.1*t) for t in range(100)]\n",
    "\n",
    "# Exemple de fonction pour extraire les valeurs y (par exemple, le carré de l'amplitude de la fonction d'onde)\n",
    "def fonction_y(t_index):\n",
    "    return np.abs(psi_of_t[t_index])**2\n",
    "\n",
    "# Définir les étiquettes des axes\n",
    "labels = [r'$x$', r'$|\\psi(x,t)|^2$']\n",
    "\n",
    "# Paramètres du graphique (optionnels)\n",
    "params_tracés = {'xlim': [xx[0], xx[-1]], 'ylim': [0, 1.1], 'intervalle': 50}\n",
    "\n",
    "# Appeler la fonction d'animation\n",
    "anim = animer_donnees(psi_of_t, xx, fonction_y, labels, params_tracés)\n",
    "\n",
    "# Afficher l'animation\n",
    "#plt.show()\n",
    "HTML(anim.to_jshtml())"
   ]
  },
  {
   "cell_type": "markdown",
   "id": "d74a8860",
   "metadata": {},
   "source": [
    "<div class=\"alert alert-block alert-success\">\n",
    "    <b> </b> "
   ]
  },
  {
   "cell_type": "markdown",
   "id": "e484ebf9",
   "metadata": {},
   "source": [
    "# **B - Pratique et implémentation de la Transformée de Fourier**\n",
    "\n",
    "On a vu dans le cours que la **transformation de Fourier continue** d'une fonction $f(x)$ et la **transformation de Fourier inverse** sont définies par (avec la normalisation symétrique):\n",
    "\\begin{align}\n",
    "\\hat{f}(k) &= \\frac{1}{\\sqrt{2\\pi}} \\int_{-\\infty}^{+\\infty} f(x) \\, e^{-i k x} \\, dx \\\\\n",
    "f(x) &= \\frac{1}{\\sqrt{2\\pi}} \\int_{-\\infty}^{+\\infty} \\hat{f}(k) \\, e^{i k x} \\, dk\n",
    "\\end{align}\n",
    "\n",
    "### Matrices de la Transformation de Fourier Discrète\n",
    "\n",
    "\n",
    "Pour un signal discret, $\\psi$ est un vecteur de taille $N$. La TFD discrète et son inverse peuvent alors être écrite sous forme de produit matriciel :\n",
    "$$\n",
    "\\hat{\\psi} = \\mathbf{F} \\cdot \\psi\\,, \\qquad \\text{et}\\qquad \n",
    "\\psi = \\mathbf{F}^{-1} \\cdot \\hat{\\psi}\\,.\n",
    "$$\n",
    "Ici, la matrice $\\mathbf{F}$ applique la transformation de Fourier en calculant des combinaisons linéaires pondérées par les exponentielles complexes.\n",
    "\n",
    "\n",
    "On peut écrire la transformée de Fourier discrète en utilisant des matrices, nous pouvons introduire une **matrice de Fourier discrète** $\\mathbf{F}$, et la **matrice de transformation inverse** $\\mathbf{F}^{-1}$ qui permet de revenir du domaine fréquentiel au domaine spatial. Elles sont respectivement définies par :\n",
    "\\begin{align}\n",
    "  \\mathbf{F}[m, n]      &= \\delta_x \\cdot \\frac{1}{\\sqrt{2\\pi}} \\cdot e^{-i k_{m} x_{n}} \\\\\n",
    "  \\mathbf{F}^{-1}[n, m] &= \\delta_k \\cdot \\frac{1}{\\sqrt{2\\pi}} \\cdot e^{i k_{m} x_{n}}\n",
    "\\end{align}\n",
    "où :\n",
    "- $m$ est l'indice de la fréquence (ligne de la matrice),\n",
    "- $n$ est l'indice spatial (colonne de la matrice).\n",
    "Ici `delta_x` et `delta_k` sont introduits pour tenir compte de l'espacement entre les points de la grille dans le domaine spatial et fréquentiel.\n",
    "\n",
    "\n",
    "\n"
   ]
  },
  {
   "cell_type": "markdown",
   "id": "abb61101",
   "metadata": {},
   "source": [
    "## B1 Execrice Transformée de Fourier discrète\n",
    "\n",
    "### B.1.a Discrétisation de l’espace et du moment avec les transformées de Fourier\n",
    "\n",
    "Il faut avant tout créer une grille d’espace et une grille de moment qui seront utilisées pour représenter numériquement la fonction d’onde. Afin de passer d’une représentation spatiale à une représentation dans l’espace des impulisons, nous utiliserons la transformée de Fourier discrète (DFT) pour relier ces deux grilles.\n",
    "\n",
    "On choisira l’intervalle spatial $x\\in [-10,10]$ découpée en $N$ points (par exemple $N = 2^9 + 1$).\n",
    "- Calculez le pas de la grille, `delta_x` et construisez le tableau `x_grid` en utilisant `delta_x` pour obtenir une grille uniforme de points sur l'intervalle.\n",
    "- Calculez la valeur minimale du moment $p$  et le pas `delta_k` avec les relations :\n",
    "  $$\n",
    "  p_0 = -\\frac{\\pi}{\\delta_x} \\times \\left(1 - \\frac{1}{N}\\right)\n",
    "  \\qquad  \\text{et} \\quad \\delta_p = \\frac{2 \\pi}{N \\times \\delta_x}\n",
    "  $$\n",
    "Utilisez `p0` et `delta_p` pour créer la grille `p_grid_dft`, en prenant soin que cette grille soit réciproque à `x_grid`. "
   ]
  },
  {
   "cell_type": "code",
   "execution_count": 22,
   "id": "6e85eec9",
   "metadata": {},
   "outputs": [],
   "source": [
    "### BEGIN SOLUTION\n",
    "\n",
    "### END SOLUTION"
   ]
  },
  {
   "cell_type": "markdown",
   "id": "4f2dc555",
   "metadata": {},
   "source": [
    "### B.1.b Implémentation des transformées de Fourier\n",
    "\n",
    "Comme décrit plus haut, il faut ici, précalculer les matrices pour les transformées de Fourier."
   ]
  },
  {
   "cell_type": "code",
   "execution_count": 51,
   "id": "7d4421e5",
   "metadata": {},
   "outputs": [],
   "source": [
    "### BEGIN SOLUTION\n",
    "\n",
    "### END SOLUTION"
   ]
  },
  {
   "cell_type": "markdown",
   "id": "58803f50",
   "metadata": {},
   "source": [
    "### B.1.c Verification de certaines transformées de Fourier\n",
    "\n",
    "Afin de vérifier que votre implémentation de la transformée de  Fourier discète est correcte, vérifiez et tracez des transformées de Fourier de fonctions dont le résulta est déjà connu: \n",
    "* d'une fonction sinusoidale\n",
    "* d'une gaussienne \n",
    "* d'une fonction carrée "
   ]
  },
  {
   "cell_type": "code",
   "execution_count": 63,
   "id": "213488d6",
   "metadata": {},
   "outputs": [],
   "source": [
    "### BEGIN SOLUTION\n",
    "\n",
    "### END SOLUTION"
   ]
  },
  {
   "cell_type": "markdown",
   "id": "a1f376c2",
   "metadata": {},
   "source": [
    "\n",
    "<div class=\"alert alert-block alert-info\">\n",
    "  \n",
    "    \n",
    "</div>\n"
   ]
  },
  {
   "cell_type": "markdown",
   "id": "0708e51e",
   "metadata": {},
   "source": [
    "# **C - Évolution d'un système quantique**"
   ]
  },
  {
   "cell_type": "markdown",
   "id": "26a28502",
   "metadata": {},
   "source": [
    "# C1 - Outils théoriques pour la résolution de l'équation de Schrödinger dépendant du temps\n",
    "\n",
    "Nous avons vu dans le cours, et dans l'exercice précédent comment implémenter des transformées de Fourier. Le but ici est de mettre en application pour traiter des problèmes quantiques.  \n",
    "En particulier, dans cette session de TP, nous examinons le problème de la détermination de l'évolution temporelle d'une fonction d'onde $\\psi(t)$ qui part d'un état initial $\\psi_0$ à l'instant $t=0$, et évolue selon l'équation de Schrödinger\n",
    "$$ i\\frac{\\partial \\psi(t)}{\\partial t} = H \\psi(t) \\quad (\\text{avec } \\hbar = 1) \\,.$$\n",
    "\n",
    "On considère ici une particule de masse $m$, d'impulsion $p$ et de position $x$, se déplaçant dans un potentiel unidimensionnel $V(x)$. Sa fonction d'onde $\\psi(x, t)$ évolue selon l'équation de Schrödinger avec un hamiltonien \n",
    "$$ H = \\frac{1}{2}p^2 + V(x) \\,.$$\n",
    "\n",
    "où $ p^2 $ a la représentation suivante dans l'espace direct :\n",
    "\n",
    "$$ p^2 = -\\frac{\\partial^2}{\\partial x^2}. $$\n",
    "\n",
    "Nous rapellons ici la méthode présentée dans le cours pour aborder ce problème en utilisant l'opérateur d'évolution. \n",
    "\n",
    "#### <u>Remarque</u>:\n",
    "Remarquons avant tout qu'une méthode naïve pour la discrétisation du temps, pour résoudre l'évolution de Schrödinger, serai de remplacer la dérivée temporelle par une approximation du premier ordre\n",
    "$$ i\\frac{\\partial \\psi(t)}{\\partial t} \\simeq \\frac{\\psi(t + \\Delta t) - \\psi(t)}{\\Delta t}\\,. $$\n",
    "Une telle approche, similaire à ce qui est vue dans des cours de résolution numérique des équation différentielle, est simple à mettre en œuvre. Cependant elle soulève plusieurs problèmes, entre autre qu'il est difficile d'assurer la conservation de la probabilité. On utilisera donc ici une autre méthode, parfois qualifiée de: time-evolving block decimation.\n",
    "\n",
    "## C1.1 L'opérateur d'évolution temporellee et formule de Trotter-Susuzki\n",
    "\n",
    "Il est préférable de partir de la solution opératoire de l'équation de Schrödinger (cette formulation sera détaillée au second semestre)\n",
    "$$ \\psi(t) = \\exp(-itH) \\psi(0) \\,.$$\n",
    "L'idée ici est de décomposer l'intervalle de temps $t$ en $N$ étapes de durée $\\Delta t = \\frac{t}{N}$. L'opérateur d'évolution complet peut alors être écrit (sans approximation) comme un produit de $N$ opérateurs\n",
    "$$\n",
    "\\exp(-itH) = \\prod_{k=1}^{N} \\exp(-i \\Delta t H) \\,.\n",
    "$$\n",
    "Chaque opérateur infinitésimal d'évolution s'écrit alors\n",
    "$$\n",
    "\\exp(-i \\Delta t H) = \\exp\\left[-i \\Delta t \\left(\\frac{p^2}{2} + V(x)\\right)\\right]\\,.\n",
    "$$\n",
    "\n",
    "### C1.1.a Décomposition de Trotter-Susuzki\n",
    "Dans cette expression, la partie du potentiel $V(x)$ prend une forme simple dans l'espace réel, tandis que la partie dérivée $p^2$ prend une forme simple dans l'espace des impulsions (c’est-à-dire après une transformation de Fourier de la coordonnée spatiale). Pour séparer ces deux contributions, nous utilisons la formule de Trotter-Susuki :\n",
    "$$\n",
    "\\exp\\left[-i \\Delta t \\left(\\frac{p^2}{2} + V(x)\\right)\\right] \\simeq \\exp\\left(-i V(x) \\frac{\\Delta t}{2}\\right) \\exp\\left(-i \\frac{\\Delta t p^2}{2}\\right) \\exp\\left(-i V(x) \\frac{\\Delta t}{2}\\right) + \\mathcal{O}(\\Delta t^3).\n",
    "$$\n",
    "\n",
    "### C1.1.b Espaces des position et espace des impulsions: Transformation de Fourier\n",
    "\n",
    "Comme dit plus haut, la décomposition de Trotter permet de séparer l'opérateur d'évolution en un produit d'opérateurs agissant sur des variables différentes. La partie cinétique \n",
    "est une simple  multiplication par un exponentielles dans l'espace des impulsion (sur $\\psi(p)$). De même, la partie potentielle agit comme une simple  multiplication par un exponentielles dans l'espace des positions (sur $\\psi(x)$).\n",
    "\n",
    "Dans un espace continu, les transformations de Fourier permettent de passer de l'espace des positions à l'espace des impulsion. Autrement dit elles relient $\\psi(x)$ et $\\psi(p)$ d'après les formules\n",
    "$$\n",
    "  \\psi(p) = \\frac{1}{\\sqrt{2\\pi}} \\int_{-\\infty}^{\\infty} dx \\, e^{-ipx} \\psi(x)\n",
    "$$\n",
    "$$\n",
    "  \\psi(x) = \\frac{1}{\\sqrt{2\\pi}} \\int_{-\\infty}^{\\infty} dp \\, e^{ipx} \\psi(p)\n",
    "$$\n",
    "\n",
    "### C1.1.c Discrétisation\n",
    "\n",
    "La fonction d'onde $\\psi(x, t)$, continue dans l'espace et le temps, doit être discrétisée pour un traitement numérique. On la représente par un tableau de valeurs aux points spécifiques de l'espace, chaque point stockant l'amplitude de $\\psi$ à un instant donné. Cette discrétisation simplifie les calculs et l'application d'opérateurs d'évolution, comme dans la formule de Trotter, et permet d'utiliser des fonctions de bibliothèque pour la transformée de Fourier discrète (DFT) directement sur ce tableau. \n",
    "\n",
    "Remarquons que la transformée de Fourier discrète (DFT) suppose des données périodiques sur l'intervalle spatial discrétisé, connectant ainsi les valeurs de $\\psi$ aux bords de l’intervalle pour former un système périodique. Cela revient à simuler un espace où la fonction d'onde \"boucle\" continuellement, créant une condition aux limites artificielle : toute particule traversant un bord spatial réapparaît de l'autre côté, et le potentiel $V(x)$ devient également périodique, même si ce n'est pas le cas dans la situation physique d'origine. Cette hypothèse convient pour les systèmes à potentiel périodique, mais elle peut nécessiter d’autres approches si des conditions aux limites réelles sont requises.\n",
    "\n",
    "\n",
    "### C1.1.d Présentation de l'algorithme\n",
    "\n",
    "\n",
    "Dans l'algorithme, la coordonnée spatiale est également discrétisée et on utilise la transformée de Fourier discrète.  Un schéma possible pour l'algorithme est donc :\n",
    "\n",
    "<div class=\"alert alert-block alert-info\">\n",
    "\n",
    "    \n",
    "</div>\n",
    "\n",
    "1. Partir d'une fonction d'onde initiale.\n",
    "2. Discrétiser le temps $t$ en $ N $ étapes de durée $ \\Delta t = \\frac{t}{N} $.\n",
    "3. À chaque étape de temps, appliquer la formule de Trotter en procédant ainsi :\n",
    "   - dans l'espace réel, multiplier par $ e^{-i \\Delta t V(x) / 2} $,\n",
    "   - passer dans l'espace des moments et multiplier par $ e^{-i \\Delta t p^2 / 2} $,\n",
    "   - revenir dans l'espace réel et multiplier par $ e^{-i \\Delta t V(x) / 2} $.\n",
    "\n",
    "\n",
    "\n"
   ]
  },
  {
   "cell_type": "markdown",
   "id": "327326e2",
   "metadata": {},
   "source": [
    "# C2 - Résolution numérique de l'équation de Schrödinger dépendant du temps\n",
    "\n",
    "On considérera différents cas\n",
    "* Propagation libre\n",
    "* Barrière de potentielle: effet tunel\n",
    "* Oscillateur harmonique \n",
    "\n",
    "Dans tous les cas, il le code en lui même ne changera pas. Seuls le potentiel $V(x)$ et les conditions initiales changeront. On guidera donc la résolution pour le cas simple de la propagation libre d'un paquet d'onde gaussien. Pour les autres problèmes, il suffira d'adapter le code aux détails du problème.\n",
    "\n",
    "\n",
    "# C2.1 - Propagation libre"
   ]
  },
  {
   "cell_type": "code",
   "execution_count": 8,
   "id": "4a5d95bf",
   "metadata": {},
   "outputs": [],
   "source": [
    "### Imports\n",
    "import numpy as np\n",
    "import matplotlib.pyplot as plt"
   ]
  },
  {
   "cell_type": "markdown",
   "id": "32c45361",
   "metadata": {},
   "source": [
    "### C2.1.a Discrétisation de l’espace et du moment avec les transformées de Fourier\n",
    "\n",
    "Il faut avant tout créer une grille d’espace et une grille de moment qui seront utilisées pour représenter numériquement la fonction d’onde. Afin de passer d’une représentation spatiale à une représentation dans l’espace des impulisons, nous utiliserons la transformée de Fourier discrète (DFT) pour relier ces deux grilles.\n",
    "\n",
    "On choisira l’intervalle spatial $x\\in [-10,10]$ découpée en $N$ points (par exemple $N = 2^9 + 1$).\n",
    "- Calculez le pas de la grille, `delta_x` et construisez le tableau `x_grid` en utilisant `delta_x` pour obtenir une grille uniforme de points sur l'intervalle.\n",
    "- Calculez la valeur minimale du moment $p$  et le pas `delta_k` avec les relations :\n",
    "  $$\n",
    "  p_0 = -\\frac{\\pi}{\\delta_x} \\times \\left(1 - \\frac{1}{N}\\right)\n",
    "  \\qquad  \\text{et} \\quad \\delta_p = \\frac{2 \\pi}{N \\times \\delta_x}\n",
    "  $$\n",
    "Utilisez `p0` et `delta_p` pour créer la grille `p_grid_dft`, en prenant soin que cette grille soit réciproque à `x_grid`. \n",
    "- On pourra lternativement choisir une valeur de $p_0$ si nécéssaire, par exemple $p_0 = -18$."
   ]
  },
  {
   "cell_type": "code",
   "execution_count": 4,
   "id": "62d56cda",
   "metadata": {},
   "outputs": [],
   "source": [
    "### BEGIN SOLUTION\n",
    "\n",
    "### END SOLUTION"
   ]
  },
  {
   "cell_type": "markdown",
   "id": "a4234f8e",
   "metadata": {},
   "source": [
    "### C2.1.b Implémentation des transformées de Fourier\n",
    "\n",
    "Comme pour les premiers exercices, on précalcule les matrices pour les transformées de Fourier"
   ]
  },
  {
   "cell_type": "code",
   "execution_count": 5,
   "id": "ea1ec3fd",
   "metadata": {},
   "outputs": [],
   "source": [
    "### BEGIN SOLUTION\n",
    "\n",
    "### END SOLUTION"
   ]
  },
  {
   "cell_type": "markdown",
   "id": "312cfe3a",
   "metadata": {},
   "source": [
    "### C2.1.c Paquet d'onde gaussien\n",
    "\n",
    "Le paquet d'onde gaussien est la fonction centrée autour de $x_0$, avec une largeur contrôlée par un paramètre $\\sigma$ et une impulsion initiale $p_0$.La formule de l'onde gaussienne est donnée par :\n",
    "$$\n",
    "\\psi(x) = \\sqrt{\\frac{1}{\\sqrt{2 \\pi} \\sigma}} \\cdot \\exp\\left(-\\frac{(x - x_0)^2}{2 \\sigma^2} + i p_0 x\\right)\n",
    "$$\n",
    "Cette fonction comporte deux parties :\n",
    "- **La partie réelle (en gaussienne)**, qui contrôle la forme de la cloche centrée autour de $x_0$.\n",
    "- **La partie imaginaire (en exponentielle complexe)**, qui introduit une oscillation dépendant de $p_0$, donnant un caractère ondulatoire à la fonction.\n",
    "\n",
    "Écrire une fonction définit un paquet d'onde gaussien. Ici le  et repésenter cette fonction d'onde\n",
    "- Créez une fonction `gaussian_wave(x_, x0_, sigma, p0_)` qui prend en entrée la grille de positions `x_` et les paramètres $x_0$, $\\sigma$, et $p_0$. \n",
    "- Affichez les parties réelle,  imaginaire et le module du paquet d'onde en fonction de `x_grid`.\n",
    "- Afficher également dans l'e'space des impulsions pour vérifier "
   ]
  },
  {
   "cell_type": "code",
   "execution_count": 6,
   "id": "c4d410b3",
   "metadata": {},
   "outputs": [],
   "source": [
    "### BEGIN SOLUTION\n",
    "\n",
    "### END SOLUTION"
   ]
  },
  {
   "cell_type": "markdown",
   "id": "c9b6bea2",
   "metadata": {},
   "source": [
    "### C2.1.d Évolution\n",
    "\n",
    "1. Écrire un fonction `time_step` qui fait évoluer la fonction d'onde d'un pas de temps `dt`. Par exemple de la forme:\n",
    "```python\n",
    "def time_step(psi_, potentiel_, x_, p_, dt):\n",
    "    '''\n",
    "        psi_       : tableau contenant la fonction d'onde\n",
    "        potentiel_ : tableau contenant le potentiel\n",
    "        x_         : tableau contenant les positions\n",
    "        p_         : tableau contenant les impulsions\n",
    "        dt         : le pas de temps\n",
    "    '''\n",
    "\n",
    "    ......\n",
    "\n",
    "    return psi_\n",
    "    \n",
    "```\n",
    "\n",
    "\n",
    "2. Écrire un fonction `time_evolution` qui fait évoluer la fonction d'onde d'un pas de temps `dt`. Par exemple de la forme:\n",
    "```python\n",
    "def time_step(psi0_, potentiel_, x_, p_, times):\n",
    "    '''\n",
    "        psi0_      : tableau contenant la fonction d'onde à l'instant initial\n",
    "        potentiel_ : tableau contenant le potentiel\n",
    "        x_         : tableau contenant les positions\n",
    "        p_         : tableau contenant les impulsions\n",
    "        times      : le tableau des temps\n",
    "    '''\n",
    "\n",
    "    ......\n",
    "\n",
    "    return psi_\n",
    "    \n",
    "```\n"
   ]
  },
  {
   "cell_type": "code",
   "execution_count": 7,
   "id": "76e5ef54",
   "metadata": {},
   "outputs": [],
   "source": [
    "### BEGIN SOLUTION\n",
    "\n",
    "### END SOLUTION"
   ]
  },
  {
   "cell_type": "markdown",
   "id": "94bcd647",
   "metadata": {},
   "source": [
    "3. Écrire une fonction qui renvoie le potentiel. \n",
    "On pourrant prendre ici le potentiel nul.\n",
    "4. Définir (si ce n'est déja fait) la condition initiale $\\psi_0$ comme étant un paquet d'onde gaussien, puis faites le évoluer avec la fonction `time_evolution` en ayant au préalable défini les quantités nécessaires."
   ]
  },
  {
   "cell_type": "code",
   "execution_count": 8,
   "id": "7904daba",
   "metadata": {},
   "outputs": [],
   "source": [
    "### BEGIN SOLUTION\n",
    "\n",
    "### END SOLUTION"
   ]
  },
  {
   "cell_type": "markdown",
   "id": "f5fb6683",
   "metadata": {},
   "source": [
    "5. Afficher la fonction d'onde à certains temps"
   ]
  },
  {
   "cell_type": "code",
   "execution_count": null,
   "id": "0f1cf9a4",
   "metadata": {},
   "outputs": [],
   "source": [
    "### BEGIN SOLUTION\n",
    "\n",
    "### END SOLUTION"
   ]
  },
  {
   "cell_type": "markdown",
   "id": "2977446a",
   "metadata": {},
   "source": [
    "### C2.1.e Animation\n",
    "\n",
    "\n",
    "Animez vos résultats, voir par exemple le code au début\n"
   ]
  },
  {
   "cell_type": "code",
   "execution_count": null,
   "id": "48741b2e",
   "metadata": {},
   "outputs": [],
   "source": [
    "### BEGIN SOLUTION\n",
    "\n",
    "\n",
    "### END SOLUTION"
   ]
  },
  {
   "cell_type": "markdown",
   "id": "f16c5357",
   "metadata": {},
   "source": [
    "# C2.2 - Barrière de potentielle: effet tunel\n",
    "\n",
    "À l'aide de vos codes précédents étudiez l'effet tunnel. \n",
    "Pour celà il s'agira de définir un nouveau potentiel par exemple\n",
    "```python\n",
    "def barriere(x,a=0,b=0.5,height=40):\n",
    "\n",
    "```"
   ]
  },
  {
   "cell_type": "code",
   "execution_count": null,
   "id": "3f0e7a49",
   "metadata": {},
   "outputs": [],
   "source": [
    "### BEGIN SOLUTION\n",
    "\n",
    "\n",
    "### END SOLUTION\n"
   ]
  },
  {
   "cell_type": "markdown",
   "id": "2ee79104",
   "metadata": {},
   "source": [
    "# C2.3 - Oscillateur harmonique \n",
    "\n",
    "De même que précédement, vous pouvez réutulizer vos codes précédents pour étudier l'oscillateur harmonique quantique. Comme précédement, il s'agira de définir un nouveau potentiel qui soit celui de l'oscilateur harmonique\n",
    "$$\n",
    "    V(x) = \\frac{\\omega^2x^2}{2} \\,.\n",
    "$$ \n",
    "\n",
    "1. Commencez par un paquet d'onde gaussien . Qu'observez vous?\n",
    "2. Commencez par un état cohérent (état propre). Qu'observez vous?\n",
    "3. Commentez\n"
   ]
  },
  {
   "cell_type": "code",
   "execution_count": 2,
   "id": "0dc20280",
   "metadata": {},
   "outputs": [],
   "source": [
    "### BEGIN SOLUTION\n",
    "\n",
    "\n",
    "### END SOLUTION"
   ]
  },
  {
   "cell_type": "markdown",
   "id": "b9d357c9",
   "metadata": {},
   "source": [
    "# C.4 - Améliorations du code et transformée de Fourier rapide (bonus)\n",
    "\n",
    "Pour améliorer le code, vous pouvez de remplacer les transformées de Fourier par des transformée de Fourier rapide avec **`numpy.fft`**. Il s'agit d'une approche beaucoup plus simple et performante que de calculer manuellement les matrices de Fourier.\n",
    "\n",
    "Au lieu de calculer manuellement les matrices, nous pouvons utiliser les fonctions **`numpy.fft.fft`** et **`numpy.fft.ifft`** pour effectuer les transformations de Fourier de manière beaucoup plus rapide et simple.\n",
    "\n",
    "```python\n",
    "\n",
    "# Transformée de Fourier (FT) en utilisant numpy.fft.fft\n",
    "def ft(psi):\n",
    "    return np.fft.fft(psi)\n",
    "\n",
    "# Transformée inverse de Fourier (IFT) en utilisant numpy.fft.ifft\n",
    "def ift(psi_k):\n",
    "    return np.fft.ifft(psi_k)\n",
    "```\n",
    "\n",
    "### Remarque: Normalisation et Grilles :\n",
    "Il peut être nécessaire de gérer des facteurs de normalisation si vous travaillez avec des fonctions continues et si vous devez tenir compte des espacements de votre grille.\n",
    "Si vous travaillez avec une grille normalisée et que vous avez besoin d'un facteur d'échelle (comme vous l'aviez dans votre code avec `delta_x`), vous pouvez modifier les fonctions **FFT** et **IFT** comme suit :\n",
    "\n",
    "```python\n",
    "def ft(psi):\n",
    "    return np.fft.fft(psi) * delta_x  # Ajustement pour l'espacement de la grille\n",
    "\n",
    "def ift(psi_k):\n",
    "    return np.fft.ifft(psi_k) / delta_x  # Mise à l'échelle inverse pour l'espacement de la grille\n",
    "```\n"
   ]
  },
  {
   "cell_type": "code",
   "execution_count": null,
   "id": "e8b27c25",
   "metadata": {},
   "outputs": [],
   "source": []
  },
  {
   "cell_type": "markdown",
   "id": "0503bf74",
   "metadata": {},
   "source": [
    "# C.5 - Effet tunne en 2d? (bonus)\n",
    "\n",
    "Considérer l'éffet tunnel en 2d..."
   ]
  },
  {
   "cell_type": "code",
   "execution_count": null,
   "id": "3b485e9a",
   "metadata": {},
   "outputs": [],
   "source": []
  }
 ],
 "metadata": {
  "kernelspec": {
   "display_name": "Python 3 (ipykernel)",
   "language": "python",
   "name": "python3"
  },
  "language_info": {
   "codemirror_mode": {
    "name": "ipython",
    "version": 3
   },
   "file_extension": ".py",
   "mimetype": "text/x-python",
   "name": "python",
   "nbconvert_exporter": "python",
   "pygments_lexer": "ipython3",
   "version": "3.12.3"
  }
 },
 "nbformat": 4,
 "nbformat_minor": 5
}
