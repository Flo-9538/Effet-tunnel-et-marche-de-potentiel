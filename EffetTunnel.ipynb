{
 "cells": [
  {
   "cell_type": "markdown",
   "metadata": {},
   "source": [
    "Effet Tunnel"
   ]
  },
  {
   "cell_type": "markdown",
   "metadata": {},
   "source": []
  },
  {
   "cell_type": "code",
   "execution_count": 1,
   "metadata": {},
   "outputs": [
    {
     "name": "stdout",
     "output_type": "stream",
     "text": [
      "import done\n"
     ]
    }
   ],
   "source": [
    "#import\n",
    "import math as math\n",
    "import numpy as np\n",
    "import matplotlib as plt\n",
    "print(\"import done\")"
   ]
  },
  {
   "cell_type": "markdown",
   "metadata": {},
   "source": [
    "Fourrier transform"
   ]
  },
  {
   "cell_type": "code",
   "execution_count": 2,
   "metadata": {},
   "outputs": [
    {
     "name": "stdout",
     "output_type": "stream",
     "text": [
      "(1.7726372048266523-2.603731301266414e-32j)\n",
      "1.1253517471925912e-07\n"
     ]
    }
   ],
   "source": [
    "def g(x):\n",
    "    g=np.exp(-x**2)\n",
    "    return g\n",
    "\n",
    "def mu_ech(f):\n",
    "    k=1000 #nombre d'instances\n",
    "    T=0.1\n",
    "    dT=0.2 # doit être inférieur à T\n",
    "    for k in range:\n",
    "        dTe\n",
    "\n",
    "def F(f,mu):\n",
    "    k0=1000000\n",
    "    mu_ech=1\n",
    "    sum=0\n",
    "    for k in range (-k0,k0+1):\n",
    "        sum=sum+f(k)*np.exp(-2*1j*np.pi*k*mu/mu_ech)\n",
    "    return sum\n",
    "\n",
    "print(F(g,4))\n",
    "print(g(4))"
   ]
  },
  {
   "cell_type": "markdown",
   "metadata": {},
   "source": [
    "Normalement la fonction final"
   ]
  },
  {
   "cell_type": "code",
   "execution_count": null,
   "metadata": {},
   "outputs": [],
   "source": [
    "def Schrodinger(r,t):\n",
    "    S0 = Schrod0(r)\n",
    "    Et = U(t)\n",
    "    return Et*S0"
   ]
  },
  {
   "cell_type": "markdown",
   "metadata": {},
   "source": [
    "l'opérateur d'énergie potentielle V"
   ]
  },
  {
   "cell_type": "code",
   "execution_count": null,
   "metadata": {},
   "outputs": [],
   "source": [
    "def V(r):\n",
    "    return \n"
   ]
  },
  {
   "cell_type": "markdown",
   "metadata": {},
   "source": []
  },
  {
   "cell_type": "code",
   "execution_count": null,
   "metadata": {},
   "outputs": [],
   "source": []
  }
 ],
 "metadata": {
  "kernelspec": {
   "display_name": "Python 3",
   "language": "python",
   "name": "python3"
  },
  "language_info": {
   "codemirror_mode": {
    "name": "ipython",
    "version": 3
   },
   "file_extension": ".py",
   "mimetype": "text/x-python",
   "name": "python",
   "nbconvert_exporter": "python",
   "pygments_lexer": "ipython3",
   "version": "3.11.9"
  }
 },
 "nbformat": 4,
 "nbformat_minor": 2
}
